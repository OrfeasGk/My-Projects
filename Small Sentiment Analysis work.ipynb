{
 "cells": [
  {
   "cell_type": "code",
   "execution_count": 1,
   "id": "b5d3c588-7c40-4266-900f-7a64a19c008e",
   "metadata": {},
   "outputs": [
    {
     "data": {
      "text/html": [
       "<div>\n",
       "<style scoped>\n",
       "    .dataframe tbody tr th:only-of-type {\n",
       "        vertical-align: middle;\n",
       "    }\n",
       "\n",
       "    .dataframe tbody tr th {\n",
       "        vertical-align: top;\n",
       "    }\n",
       "\n",
       "    .dataframe thead th {\n",
       "        text-align: right;\n",
       "    }\n",
       "</style>\n",
       "<table border=\"1\" class=\"dataframe\">\n",
       "  <thead>\n",
       "    <tr style=\"text-align: right;\">\n",
       "      <th></th>\n",
       "      <th>review</th>\n",
       "      <th>sentiment</th>\n",
       "    </tr>\n",
       "  </thead>\n",
       "  <tbody>\n",
       "    <tr>\n",
       "      <th>0</th>\n",
       "      <td>One of the other reviewers has mentioned that ...</td>\n",
       "      <td>positive</td>\n",
       "    </tr>\n",
       "    <tr>\n",
       "      <th>1</th>\n",
       "      <td>A wonderful little production. &lt;br /&gt;&lt;br /&gt;The...</td>\n",
       "      <td>positive</td>\n",
       "    </tr>\n",
       "    <tr>\n",
       "      <th>2</th>\n",
       "      <td>I thought this was a wonderful way to spend ti...</td>\n",
       "      <td>positive</td>\n",
       "    </tr>\n",
       "    <tr>\n",
       "      <th>3</th>\n",
       "      <td>Basically there's a family where a little boy ...</td>\n",
       "      <td>negative</td>\n",
       "    </tr>\n",
       "    <tr>\n",
       "      <th>4</th>\n",
       "      <td>Petter Mattei's \"Love in the Time of Money\" is...</td>\n",
       "      <td>positive</td>\n",
       "    </tr>\n",
       "    <tr>\n",
       "      <th>...</th>\n",
       "      <td>...</td>\n",
       "      <td>...</td>\n",
       "    </tr>\n",
       "    <tr>\n",
       "      <th>49995</th>\n",
       "      <td>I thought this movie did a down right good job...</td>\n",
       "      <td>positive</td>\n",
       "    </tr>\n",
       "    <tr>\n",
       "      <th>49996</th>\n",
       "      <td>Bad plot, bad dialogue, bad acting, idiotic di...</td>\n",
       "      <td>negative</td>\n",
       "    </tr>\n",
       "    <tr>\n",
       "      <th>49997</th>\n",
       "      <td>I am a Catholic taught in parochial elementary...</td>\n",
       "      <td>negative</td>\n",
       "    </tr>\n",
       "    <tr>\n",
       "      <th>49998</th>\n",
       "      <td>I'm going to have to disagree with the previou...</td>\n",
       "      <td>negative</td>\n",
       "    </tr>\n",
       "    <tr>\n",
       "      <th>49999</th>\n",
       "      <td>No one expects the Star Trek movies to be high...</td>\n",
       "      <td>negative</td>\n",
       "    </tr>\n",
       "  </tbody>\n",
       "</table>\n",
       "<p>50000 rows × 2 columns</p>\n",
       "</div>"
      ],
      "text/plain": [
       "                                                  review sentiment\n",
       "0      One of the other reviewers has mentioned that ...  positive\n",
       "1      A wonderful little production. <br /><br />The...  positive\n",
       "2      I thought this was a wonderful way to spend ti...  positive\n",
       "3      Basically there's a family where a little boy ...  negative\n",
       "4      Petter Mattei's \"Love in the Time of Money\" is...  positive\n",
       "...                                                  ...       ...\n",
       "49995  I thought this movie did a down right good job...  positive\n",
       "49996  Bad plot, bad dialogue, bad acting, idiotic di...  negative\n",
       "49997  I am a Catholic taught in parochial elementary...  negative\n",
       "49998  I'm going to have to disagree with the previou...  negative\n",
       "49999  No one expects the Star Trek movies to be high...  negative\n",
       "\n",
       "[50000 rows x 2 columns]"
      ]
     },
     "execution_count": 1,
     "metadata": {},
     "output_type": "execute_result"
    }
   ],
   "source": [
    "import pandas as pd\n",
    "import numpy as np\n",
    "data=pd.read_csv(\"IMDB Dataset.csv\",sep=\",\")\n",
    "data"
   ]
  },
  {
   "cell_type": "markdown",
   "id": "780c061e-be10-4b2d-8161-1656bc998ae2",
   "metadata": {},
   "source": [
    "Quantifying the sentiment to column "
   ]
  },
  {
   "cell_type": "code",
   "execution_count": 2,
   "id": "3aef9253-9000-4d36-a699-9a8b919a17fc",
   "metadata": {},
   "outputs": [],
   "source": [
    "target=[]\n",
    "for i in data[\"sentiment\"]:\n",
    "    if i==\"positive\":\n",
    "        target.append(1)\n",
    "    else:\n",
    "        target.append(-1)\n",
    "target=np.array(target)"
   ]
  },
  {
   "cell_type": "markdown",
   "id": "e7b3c947-85bc-43dc-8ad5-ff575594911f",
   "metadata": {},
   "source": [
    "Lower casing every later, removing stopwords and punctuation"
   ]
  },
  {
   "cell_type": "code",
   "execution_count": 3,
   "id": "2fbb5eab-df6c-4853-bc41-195089ddad73",
   "metadata": {},
   "outputs": [
    {
     "name": "stderr",
     "output_type": "stream",
     "text": [
      "<>:9: SyntaxWarning: invalid escape sequence '\\)'\n",
      "<>:10: SyntaxWarning: invalid escape sequence '\\W'\n",
      "<>:9: SyntaxWarning: invalid escape sequence '\\)'\n",
      "<>:10: SyntaxWarning: invalid escape sequence '\\W'\n",
      "C:\\Users\\giorg\\AppData\\Local\\Temp\\ipykernel_6104\\772322271.py:9: SyntaxWarning: invalid escape sequence '\\)'\n",
      "  emoticons = re.findall('(?::|;|=)(?:-)?(?:\\)|\\(|D|P)', doc)\n",
      "C:\\Users\\giorg\\AppData\\Local\\Temp\\ipykernel_6104\\772322271.py:10: SyntaxWarning: invalid escape sequence '\\W'\n",
      "  doc = (re.sub(\"[\\W]+\", \" \", doc.lower()) + \" \" .join(emoticons).replace('-', ''))\n"
     ]
    },
    {
     "data": {
      "text/plain": [
       "0        one reviewers mentioned watching 1 oz episode ...\n",
       "1        wonderful little production filming technique ...\n",
       "2        thought wonderful way spend time hot summer we...\n",
       "3        basically family little boy jake thinks zombie...\n",
       "4        petter mattei love time money visually stunnin...\n",
       "                               ...                        \n",
       "49995    thought movie right good job creative original...\n",
       "49996    bad plot bad dialogue bad acting idiotic direc...\n",
       "49997    catholic taught parochial elementary schools n...\n",
       "49998    going disagree previous comment side maltin on...\n",
       "49999    one expects star trek movies high art fans exp...\n",
       "Name: cleaned text, Length: 50000, dtype: object"
      ]
     },
     "execution_count": 3,
     "metadata": {},
     "output_type": "execute_result"
    }
   ],
   "source": [
    "from textblob import TextBlob\n",
    "import re\n",
    "from nltk.corpus import stopwords\n",
    "import warnings\n",
    "warnings.filterwarnings('ignore')\n",
    "stop = stopwords.words('english')\n",
    "def preprocessor(doc):\n",
    "    doc = re.sub(\"<[^>]*>\", \"\", doc)\n",
    "    emoticons = re.findall('(?::|;|=)(?:-)?(?:\\)|\\(|D|P)', doc)\n",
    "    doc = (re.sub(\"[\\W]+\", \" \", doc.lower()) + \" \" .join(emoticons).replace('-', ''))\n",
    "\n",
    "    ret_text = \"\"\n",
    "    for word in doc.split():\n",
    "        if word not in stop:\n",
    "            ret_text += word + \" \"\n",
    "\n",
    "    ret_text = ret_text.strip()\n",
    "\n",
    "    if len(ret_text) == 0:\n",
    "        ret_text = \"Invalid\"\n",
    "    return ret_text\n",
    "data[\"cleaned text\"]=data[\"review\"].apply(preprocessor)\n",
    "x=data[\"cleaned text\"]\n",
    "x"
   ]
  },
  {
   "cell_type": "markdown",
   "id": "78394945-bd19-4b0b-a40d-ec6c2c860728",
   "metadata": {},
   "source": [
    "Let's split the dataset into the training and testing set and write a function which returns the polarity score of TextBlob"
   ]
  },
  {
   "cell_type": "code",
   "execution_count": 4,
   "id": "a8205d24-6bd3-4de7-8ce7-d6ad824c4215",
   "metadata": {},
   "outputs": [],
   "source": [
    "from sklearn.model_selection import train_test_split\n",
    "x_train,x_test,y_train,y_test=train_test_split(x,target,test_size=0.3,random_state=1,stratify=target)\n",
    "def analyzer(x):\n",
    "    analysis=[]\n",
    "    for text in x:\n",
    "        blob=TextBlob(text)\n",
    "        sentiment=blob.sentiment\n",
    "        analysis.append(sentiment)\n",
    "    analysis=pd.DataFrame(analysis)\n",
    "    return np.array(analysis[\"polarity\"]).reshape(-1,1)\n",
    "\n",
    "    "
   ]
  },
  {
   "cell_type": "markdown",
   "id": "146f62b1-f1a6-4329-8b18-0d41abddfa21",
   "metadata": {},
   "source": [
    "I am using Logistic Regression as my classifier"
   ]
  },
  {
   "cell_type": "code",
   "execution_count": 5,
   "id": "89f3aeca-ba94-40cb-b12f-0ca092fef76f",
   "metadata": {},
   "outputs": [],
   "source": [
    "from sklearn.linear_model import LogisticRegression\n",
    "cl=LogisticRegression(solver=\"liblinear\",n_jobs=-1)\n",
    "cl.fit(analyzer(x_train),y_train)\n",
    "pred=cl.predict(analyzer(x_test))\n"
   ]
  },
  {
   "cell_type": "markdown",
   "id": "1c436380-270b-4847-b10e-6656112f25a0",
   "metadata": {},
   "source": [
    "Printing the measures of the classifier as a dataframe"
   ]
  },
  {
   "cell_type": "code",
   "execution_count": 6,
   "id": "db89fd71-338b-4d7e-bc86-28db8669434f",
   "metadata": {},
   "outputs": [
    {
     "data": {
      "text/html": [
       "<div>\n",
       "<style scoped>\n",
       "    .dataframe tbody tr th:only-of-type {\n",
       "        vertical-align: middle;\n",
       "    }\n",
       "\n",
       "    .dataframe tbody tr th {\n",
       "        vertical-align: top;\n",
       "    }\n",
       "\n",
       "    .dataframe thead th {\n",
       "        text-align: right;\n",
       "    }\n",
       "</style>\n",
       "<table border=\"1\" class=\"dataframe\">\n",
       "  <thead>\n",
       "    <tr style=\"text-align: right;\">\n",
       "      <th></th>\n",
       "      <th>Accuracy</th>\n",
       "      <th>F1-Score</th>\n",
       "      <th>Precision</th>\n",
       "      <th>Recall</th>\n",
       "    </tr>\n",
       "  </thead>\n",
       "  <tbody>\n",
       "    <tr>\n",
       "      <th>0</th>\n",
       "      <td>0.762733</td>\n",
       "      <td>0.764258</td>\n",
       "      <td>0.759379</td>\n",
       "      <td>0.7692</td>\n",
       "    </tr>\n",
       "  </tbody>\n",
       "</table>\n",
       "</div>"
      ],
      "text/plain": [
       "   Accuracy  F1-Score  Precision  Recall\n",
       "0  0.762733  0.764258   0.759379  0.7692"
      ]
     },
     "execution_count": 6,
     "metadata": {},
     "output_type": "execute_result"
    }
   ],
   "source": [
    "from sklearn.metrics import accuracy_score,f1_score,precision_score,recall_score\n",
    "acc = accuracy_score(y_test, pred)\n",
    "f1=f1_score(y_test,pred)\n",
    "prec=precision_score(y_test,pred)\n",
    "recall=recall_score(y_test,pred)\n",
    "results=[]\n",
    "results.append((acc,f1,prec,recall))\n",
    "results=pd.DataFrame(results,columns=[\"Accuracy\",\"F1-Score\",\"Precision\",\"Recall\"])\n",
    "results"
   ]
  },
  {
   "cell_type": "markdown",
   "id": "5919e1f6-0e86-455d-97ce-82473db7069d",
   "metadata": {},
   "source": [
    "The confusion matrix of the classification"
   ]
  },
  {
   "cell_type": "code",
   "execution_count": 7,
   "id": "772f104d-8c2b-4504-ac48-e1bc63fa0a2f",
   "metadata": {},
   "outputs": [
    {
     "name": "stdout",
     "output_type": "stream",
     "text": [
      "[[5672 1828]\n",
      " [1731 5769]]\n"
     ]
    }
   ],
   "source": [
    "from sklearn.metrics import confusion_matrix\n",
    "print(confusion_matrix(y_test, pred))"
   ]
  },
  {
   "cell_type": "code",
   "execution_count": 8,
   "id": "9e30f688-2392-4f24-bb68-27e4673101f0",
   "metadata": {},
   "outputs": [
    {
     "name": "stdout",
     "output_type": "stream",
     "text": [
      "              precision    recall  f1-score   support\n",
      "\n",
      "    Positive       0.77      0.76      0.76      7500\n",
      "    Negative       0.76      0.77      0.76      7500\n",
      "\n",
      "    accuracy                           0.76     15000\n",
      "   macro avg       0.76      0.76      0.76     15000\n",
      "weighted avg       0.76      0.76      0.76     15000\n",
      "\n"
     ]
    }
   ],
   "source": [
    "from sklearn.metrics import classification_report\n",
    "print(classification_report(y_test, pred, target_names={\"Positive\", \"Negative\"}))"
   ]
  },
  {
   "cell_type": "markdown",
   "id": "2bf01bf5-05fc-4f72-8770-cf34c7d7f820",
   "metadata": {},
   "source": [
    "Here I imported Vader and created a function which returns Vader's compound score"
   ]
  },
  {
   "cell_type": "code",
   "execution_count": 9,
   "id": "7a5aca37-75dc-466a-b94d-56229658a649",
   "metadata": {},
   "outputs": [],
   "source": [
    "from vaderSentiment.vaderSentiment import SentimentIntensityAnalyzer\n",
    "def vader_analyzer(x):\n",
    "    analyzer = SentimentIntensityAnalyzer()\n",
    "    result=[]\n",
    "    for sentence in x:\n",
    "        vs=analyzer.polarity_scores(sentence)\n",
    "        result.append(vs)\n",
    "    result=pd.DataFrame(result)\n",
    "    return np.array(result[\"compound\"]).reshape(-1,1)\n",
    "vader_xtrain=vader_analyzer(x_train)\n",
    "vader_xtest=vader_analyzer(x_test)\n",
    "    \n"
   ]
  },
  {
   "cell_type": "markdown",
   "id": "12a04fbc-b5d4-4e26-b342-acc908434580",
   "metadata": {},
   "source": [
    "Printing Vader's results"
   ]
  },
  {
   "cell_type": "code",
   "execution_count": 10,
   "id": "f19ef671-b87a-492c-80af-25348ae34697",
   "metadata": {},
   "outputs": [
    {
     "data": {
      "text/html": [
       "<div>\n",
       "<style scoped>\n",
       "    .dataframe tbody tr th:only-of-type {\n",
       "        vertical-align: middle;\n",
       "    }\n",
       "\n",
       "    .dataframe tbody tr th {\n",
       "        vertical-align: top;\n",
       "    }\n",
       "\n",
       "    .dataframe thead th {\n",
       "        text-align: right;\n",
       "    }\n",
       "</style>\n",
       "<table border=\"1\" class=\"dataframe\">\n",
       "  <thead>\n",
       "    <tr style=\"text-align: right;\">\n",
       "      <th></th>\n",
       "      <th>Accuracy</th>\n",
       "      <th>F1-Score</th>\n",
       "      <th>Precision</th>\n",
       "      <th>Recall</th>\n",
       "    </tr>\n",
       "  </thead>\n",
       "  <tbody>\n",
       "    <tr>\n",
       "      <th>0</th>\n",
       "      <td>0.694933</td>\n",
       "      <td>0.734324</td>\n",
       "      <td>0.65035</td>\n",
       "      <td>0.8432</td>\n",
       "    </tr>\n",
       "  </tbody>\n",
       "</table>\n",
       "</div>"
      ],
      "text/plain": [
       "   Accuracy  F1-Score  Precision  Recall\n",
       "0  0.694933  0.734324    0.65035  0.8432"
      ]
     },
     "execution_count": 10,
     "metadata": {},
     "output_type": "execute_result"
    }
   ],
   "source": [
    "log_reg=LogisticRegression(solver=\"liblinear\",n_jobs=-1)\n",
    "log_reg.fit(vader_xtrain,y_train)\n",
    "vader_pred=log_reg.predict(vader_xtest)\n",
    "vader_acc=accuracy_score(y_test,vader_pred)\n",
    "vader_f1=f1_score(y_test,vader_pred)\n",
    "vader_prec=precision_score(y_test,vader_pred)\n",
    "vader_recall=recall_score(y_test,vader_pred)\n",
    "vader_results=[]\n",
    "vader_results.append((vader_acc,vader_f1,vader_prec,vader_recall))\n",
    "vader_results=pd.DataFrame(vader_results,columns=[\"Accuracy\",\"F1-Score\",\"Precision\",\"Recall\"])\n",
    "vader_results\n",
    "\n"
   ]
  },
  {
   "cell_type": "code",
   "execution_count": 11,
   "id": "419e84a5-d569-43ee-a4ea-e462009c59b8",
   "metadata": {},
   "outputs": [
    {
     "name": "stdout",
     "output_type": "stream",
     "text": [
      "[[4100 3400]\n",
      " [1176 6324]]\n"
     ]
    }
   ],
   "source": [
    "print(confusion_matrix(y_test, vader_pred))"
   ]
  },
  {
   "cell_type": "markdown",
   "id": "ade72c0e-9d18-4ff4-8c11-3dad308f461a",
   "metadata": {},
   "source": [
    "Printing the final results in a single dataframe,seems like TextBlob did a better job"
   ]
  },
  {
   "cell_type": "code",
   "execution_count": 12,
   "id": "deb84f20-0cfd-4ca4-816e-a8098e00a69c",
   "metadata": {},
   "outputs": [
    {
     "data": {
      "text/html": [
       "<div>\n",
       "<style scoped>\n",
       "    .dataframe tbody tr th:only-of-type {\n",
       "        vertical-align: middle;\n",
       "    }\n",
       "\n",
       "    .dataframe tbody tr th {\n",
       "        vertical-align: top;\n",
       "    }\n",
       "\n",
       "    .dataframe thead th {\n",
       "        text-align: right;\n",
       "    }\n",
       "</style>\n",
       "<table border=\"1\" class=\"dataframe\">\n",
       "  <thead>\n",
       "    <tr style=\"text-align: right;\">\n",
       "      <th></th>\n",
       "      <th>Analyzer</th>\n",
       "      <th>Accuracy</th>\n",
       "      <th>F1-Score</th>\n",
       "      <th>Precision</th>\n",
       "      <th>Recall</th>\n",
       "    </tr>\n",
       "  </thead>\n",
       "  <tbody>\n",
       "    <tr>\n",
       "      <th>0</th>\n",
       "      <td>Text Blob</td>\n",
       "      <td>0.762733</td>\n",
       "      <td>0.764258</td>\n",
       "      <td>0.759379</td>\n",
       "      <td>0.7692</td>\n",
       "    </tr>\n",
       "    <tr>\n",
       "      <th>0</th>\n",
       "      <td>Vader</td>\n",
       "      <td>0.694933</td>\n",
       "      <td>0.734324</td>\n",
       "      <td>0.650350</td>\n",
       "      <td>0.8432</td>\n",
       "    </tr>\n",
       "  </tbody>\n",
       "</table>\n",
       "</div>"
      ],
      "text/plain": [
       "    Analyzer  Accuracy  F1-Score  Precision  Recall\n",
       "0  Text Blob  0.762733  0.764258   0.759379  0.7692\n",
       "0      Vader  0.694933  0.734324   0.650350  0.8432"
      ]
     },
     "execution_count": 12,
     "metadata": {},
     "output_type": "execute_result"
    }
   ],
   "source": [
    "final_results=pd.concat([results,vader_results])\n",
    "final_results.insert(0,\"Analyzer\",[\"Text Blob\",\"Vader\"])\n",
    "final_results"
   ]
  },
  {
   "cell_type": "markdown",
   "id": "beab7321-b8a0-4100-b1b2-5ca3f9206a83",
   "metadata": {},
   "source": [
    "The distributions of TextBlob's polarity score and Vader's compound score.With a quick look we can see that the polarity score is centered around 0 while the distribution of compound score is really skewed."
   ]
  },
  {
   "cell_type": "code",
   "execution_count": 41,
   "id": "18a5e266-3446-4f4f-b399-0aef17d39530",
   "metadata": {},
   "outputs": [
    {
     "data": {
      "image/png": "[encoded data removed]",
      "text/plain": [
       "<Figure size 1000x700 with 2 Axes>"
      ]
     },
     "metadata": {},
     "output_type": "display_data"
    }
   ],
   "source": [
    "import matplotlib.pyplot as plt\n",
    "plt.style.use('_mpl-gallery')\n",
    "fig = plt.figure(figsize=(10, 7))\n",
    "ax = fig.add_subplot(131)\n",
    "ax.hist(analyzer(x),color=\"black\")\n",
    "ax.set_title(\"Distribution of Text Blob's polarity score\")\n",
    "ax = fig.add_subplot(132)\n",
    "ax.hist(vader_analyzer(x))\n",
    "ax.set_title(\"Distribution of Vader's compound score\")\n",
    "plt.show()\n"
   ]
  },
  {
   "cell_type": "code",
   "execution_count": null,
   "id": "3ef93ea9-66e2-426f-abb6-9a86fae799be",
   "metadata": {},
   "outputs": [],
   "source": []
  }
 ],
 "metadata": {
  "kernelspec": {
   "display_name": "Python 3 (ipykernel)",
   "language": "python",
   "name": "python3"
  },
  "language_info": {
   "codemirror_mode": {
    "name": "ipython",
    "version": 3
   },
   "file_extension": ".py",
   "mimetype": "text/x-python",
   "name": "python",
   "nbconvert_exporter": "python",
   "pygments_lexer": "ipython3",
   "version": "3.12.7"
  }
 },
 "nbformat": 4,
 "nbformat_minor": 5
}
